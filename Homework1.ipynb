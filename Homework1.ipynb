{
 "cells": [
  {
   "cell_type": "markdown",
   "metadata": {},
   "source": [
    "Homework-1\n",
    "\n",
    "Take 5 values from the users and write a program that prints the values you get on the screen.\n",
    "\n",
    "Print the type of values you received in this program on the screen.\n",
    "\n",
    "When using print functions, do not forget to use f-string and format usage in your program."
   ]
  },
  {
   "cell_type": "code",
   "execution_count": 1,
   "metadata": {},
   "outputs": [
    {
     "name": "stdout",
     "output_type": "stream",
     "text": [
      "Please enter your firstname: Almıla Sultan \n",
      "Please enter your surname: TAŞ\n",
      "Please enter your age: 22\n",
      "Please enter your schoolnumber: 123654\n",
      "Please enter your department: Computer Engineering\n",
      "Ad: Almıla Sultan  \n",
      "Soyad: TAŞ \n",
      "Yaş: 22 \n",
      "Okul numarası: 123654 \n",
      "Bölümü: Computer Engineering\n",
      "Değişkenlerin tipleri; \n",
      "Ad değişken tipi <class 'str'> \n",
      "Soyad değişken tipi <class 'str'> \n",
      "Yaş değişken tipi <class 'int'> \n",
      "Okul numarası değişken tipi <class 'int'> \n",
      "Nölüm değişkeni tipi <class 'str'>\n"
     ]
    }
   ],
   "source": [
    "name=input(\"Please enter your firstname: \")\n",
    "surname=input(\"Please enter your surname: \")\n",
    "age=int(input(\"Please enter your age: \"))\n",
    "schoolnumber=int(input(\"Please enter your schoolnumber: \"))\n",
    "department=input(\"Please enter your department: \")\n",
    "print(f'Ad: {name} \\nSoyad: {surname} \\nYaş: {age} \\nOkul numarası: {schoolnumber} \\nBölümü: {department}')\n",
    "print(f\"Değişkenlerin tipleri; \\nAd değişken tipi {type(name)} \\nSoyad değişken tipi {type(surname)} \\nYaş değişken tipi {type(age)} \\nOkul numarası değişken tipi {type(schoolnumber)} \\nNölüm değişkeni tipi {type(department)}\")"
   ]
  },
  {
   "cell_type": "code",
   "execution_count": null,
   "metadata": {},
   "outputs": [],
   "source": []
  }
 ],
 "metadata": {
  "kernelspec": {
   "display_name": "Python 3",
   "language": "python",
   "name": "python3"
  },
  "language_info": {
   "codemirror_mode": {
    "name": "ipython",
    "version": 3
   },
   "file_extension": ".py",
   "mimetype": "text/x-python",
   "name": "python",
   "nbconvert_exporter": "python",
   "pygments_lexer": "ipython3",
   "version": "3.8.3"
  }
 },
 "nbformat": 4,
 "nbformat_minor": 4
}
