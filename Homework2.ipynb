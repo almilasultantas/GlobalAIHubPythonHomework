{
 "cells": [
  {
   "cell_type": "markdown",
   "metadata": {},
   "source": [
    "Homework-2\n",
    "\n",
    "The user will be defined. Get the data of this user by input method. Obtain information from user as follow:\n",
    "\n",
    "*First Name\n",
    "\n",
    "*Last Name\n",
    "\n",
    "*Age\n",
    "\n",
    "*Date of birth(just year)\n",
    "\n",
    "Pass  the user's information to the list and displays the screen using the for loop. Print all user information on the screen.\n",
    "\n",
    "If he is under 18, print\"You can't go out because it's too dangerous.\" on the screen.\n",
    "\n",
    "If he s over 18, print \"You can go out to the street.\" on the screen."
   ]
  },
  {
   "cell_type": "code",
   "execution_count": 1,
   "metadata": {},
   "outputs": [
    {
     "name": "stdout",
     "output_type": "stream",
     "text": [
      "Please enter your firstname: Almıla Sultan\n",
      "Please enter your surname: TAŞ\n",
      "Please enter your age: 22\n",
      "Please enter your year of birth: 1998\n",
      "name:  Almıla Sultan\n",
      "surname:  TAŞ\n",
      "age:  22\n",
      "year:  1998\n",
      "You can go out to the street\n"
     ]
    }
   ],
   "source": [
    "name=input(\"Please enter your firstname: \")\n",
    "surname=input(\"Please enter your surname: \")\n",
    "age=int(input(\"Please enter your age: \"))\n",
    "year=int(input(\"Please enter your year of birth: \"))\n",
    "dic = {\n",
    "    \"name: \": name,\n",
    "    \"surname: \": surname,\n",
    "    \"age: \":age,\n",
    "    \"year: \": year\n",
    "}\n",
    "for i,y in dic.items():\n",
    "    print(i,y)\n",
    "if age<18:\n",
    "    print(\"You can't go out because it's too dangerous.\")\n",
    "else:\n",
    "    print(\"You can go out to the street\")"
   ]
  }
 ],
 "metadata": {
  "kernelspec": {
   "display_name": "Python 3",
   "language": "python",
   "name": "python3"
  },
  "language_info": {
   "codemirror_mode": {
    "name": "ipython",
    "version": 3
   },
   "file_extension": ".py",
   "mimetype": "text/x-python",
   "name": "python",
   "nbconvert_exporter": "python",
   "pygments_lexer": "ipython3",
   "version": "3.8.3"
  }
 },
 "nbformat": 4,
 "nbformat_minor": 4
}
