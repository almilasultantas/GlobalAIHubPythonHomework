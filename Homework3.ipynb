{
 "cells": [
  {
   "cell_type": "markdown",
   "metadata": {},
   "source": [
    "Homework-3\n",
    "\n",
    "You are free on this assignment.\n",
    "\n",
    "You can set the rules yourself. There is only one thing expected of you.\n",
    "\n",
    "When entering the game, the user's name and for example \"Welcome John.\" should be pressed to the screen.\n",
    "\n",
    "When the game is over, exit the game. so left the game end.\n"
   ]
  },
  {
   "cell_type": "code",
   "execution_count": 15,
   "metadata": {},
   "outputs": [
    {
     "name": "stdout",
     "output_type": "stream",
     "text": [
      "Please enter your name: Almıla\n",
      "Welcome Almıla\n",
      "You can 3 mistake!\n",
      "You should know this word: ['#', '#', '#', '#', '#', '#', '#', '#', '#', '#', '#', '#']\n",
      "Please enter your guess letter: T\n",
      "['t', '#', '#', '#', '#', '#', '#', '#', '#', '#', '#', '#']\n",
      "Please enter your guess letter: U\n",
      "['t', 'u', '#', '#', '#', '#', '#', '#', '#', '#', 'u', '#']\n",
      "Please enter your guess letter: R\n",
      "['t', 'u', 'r', '#', '#', '#', '#', '#', '#', '#', 'u', '#']\n",
      "Please enter your guess letter: k\n",
      "['t', 'u', 'r', 'k', '#', '#', '#', '#', '#', '#', 'u', '#']\n",
      "Please enter your guess letter: i\n",
      "['t', 'u', 'r', 'k', 'i', '#', '#', '#', 'i', '#', 'u', '#']\n",
      "Please enter your guess letter: s\n",
      "['t', 'u', 'r', 'k', 'i', 's', '#', '#', 'i', '#', 'u', '#']\n",
      "Please enter your guess letter: h\n",
      "['t', 'u', 'r', 'k', 'i', 's', 'h', '#', 'i', 'h', 'u', '#']\n",
      "Please enter your guess letter: a\n",
      "['t', 'u', 'r', 'k', 'i', 's', 'h', 'a', 'i', 'h', 'u', '#']\n",
      "Please enter your guess letter: b\n",
      "Congratulations! Word is TurkishAIHub\n"
     ]
    }
   ],
   "source": [
    "import random \n",
    "name=input(\"Please enter your name: \")\n",
    "print(f\"Welcome {name}\")\n",
    "wordlist=[\"Python\", \"AIHub\",\"TurkishAIHub\",\"Code\"]\n",
    "number=random.randrange(0, len(wordlist))\n",
    "wordlist=wordlist[number]\n",
    "word=[]\n",
    "screenword=[]\n",
    "for i in wordlist:\n",
    "    word.append(i.lower())\n",
    "    screenword.append(\"#\")\n",
    "print(\"You can 3 mistake!\")\n",
    "print(f\"You should know this word: {screenword}\")\n",
    "mistake=3\n",
    "while mistake>0:\n",
    "    guess=input(\"Please enter your guess letter: \").lower()\n",
    "    a=word.count(guess)\n",
    "    if a==0:\n",
    "        mistake-=1\n",
    "        if mistake==0:\n",
    "            print(\"You lost!\")\n",
    "            print(f\"Word is {wordlist}\")\n",
    "            break\n",
    "        print(f\"Wrong guess! You have {mistake} changes\")\n",
    "    else:\n",
    "        while a>0:\n",
    "            z=word.index(guess)\n",
    "            screenword[z]=guess\n",
    "            word[z]=\"#\"\n",
    "            a=a-1\n",
    "        \n",
    "    if screenword.count(\"#\")==0:\n",
    "        print(f\"Congratulations! Word is {wordlist}\")\n",
    "        break\n",
    "    print(screenword)\n"
   ]
  },
  {
   "cell_type": "code",
   "execution_count": null,
   "metadata": {},
   "outputs": [],
   "source": []
  }
 ],
 "metadata": {
  "kernelspec": {
   "display_name": "Python 3",
   "language": "python",
   "name": "python3"
  },
  "language_info": {
   "codemirror_mode": {
    "name": "ipython",
    "version": 3
   },
   "file_extension": ".py",
   "mimetype": "text/x-python",
   "name": "python",
   "nbconvert_exporter": "python",
   "pygments_lexer": "ipython3",
   "version": "3.8.3"
  }
 },
 "nbformat": 4,
 "nbformat_minor": 4
}
