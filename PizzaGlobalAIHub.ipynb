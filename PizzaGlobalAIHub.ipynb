{
  "nbformat": 4,
  "nbformat_minor": 0,
  "metadata": {
    "colab": {
      "provenance": [],
      "authorship_tag": "ABX9TyMXED7bC36m+PyR7EGhJiue",
      "include_colab_link": true
    },
    "kernelspec": {
      "name": "python3",
      "display_name": "Python 3"
    },
    "language_info": {
      "name": "python"
    }
  },
  "cells": [
    {
      "cell_type": "markdown",
      "metadata": {
        "id": "view-in-github",
        "colab_type": "text"
      },
      "source": [
        "<a href=\"https://colab.research.google.com/github/almilasultantas/GlobalAIHubPythonHomework/blob/main/PizzaGlobalAIHub.ipynb\" target=\"_parent\"><img src=\"https://colab.research.google.com/assets/colab-badge.svg\" alt=\"Open In Colab\"/></a>"
      ]
    },
    {
      "cell_type": "code",
      "execution_count": 33,
      "metadata": {
        "id": "7qyB6XFvHncd"
      },
      "outputs": [],
      "source": [
        "import csv\n",
        "import datetime"
      ]
    },
    {
      "cell_type": "code",
      "source": [
        "class Pizza:\n",
        "    def __init__(self, description, cost):\n",
        "        self.__description = description\n",
        "        self.__cost = cost\n",
        "    \n",
        "    def get_description(self):\n",
        "        return self.__description\n",
        "    \n",
        "    def get_cost(self):\n",
        "        return self.__cost"
      ],
      "metadata": {
        "id": "tIsgzDjHJS5j"
      },
      "execution_count": 34,
      "outputs": []
    },
    {
      "cell_type": "code",
      "source": [
        "class Klasik(Pizza):\n",
        "    def __init__(self):\n",
        "        super().__init__(\"Klasik Pizza:  domates, peynir ve genellikle çeşitli diğer malzemelerle  yenen bir yemektir.\", 20)\n",
        "\n",
        "class Margarita(Pizza):\n",
        "    def __init__(self):\n",
        "        super().__init__(\"Margarita Pizza: domates, mozarella, fesleğen, zeytinyağı ve tuzla yapılan Napoli pizzasıdır.\", 25)\n",
        "\n",
        "class TurkPizza(Pizza):\n",
        "    def __init__(self):\n",
        "        super().__init__(\"Türk Pizza:  sucuk, pastırma, biber, ve mantar ile yapılan pizzadır.\", 30)\n",
        "\n",
        "class SadePizza(Pizza):\n",
        "    def __init__(self):\n",
        "        super().__init__(\"Sade Pizza: pizza hamuru, mozzarella peyniri ve domates ile yapılan pizzadır.\", 15)\n"
      ],
      "metadata": {
        "id": "Jn4VwgB0MWIV"
      },
      "execution_count": 35,
      "outputs": []
    },
    {
      "cell_type": "code",
      "source": [
        "class Decorator(Pizza):\n",
        "    def __init__(self, component):\n",
        "        self.component = component\n",
        "\n",
        "    def get_description(self):\n",
        "        return self.component.get_description()\n",
        "\n",
        "    def get_cost(self):\n",
        "        return self.component.get_cost()\n",
        "\n"
      ],
      "metadata": {
        "id": "vNg9GBvtTrXP"
      },
      "execution_count": 36,
      "outputs": []
    },
    {
      "cell_type": "code",
      "source": [
        "\n",
        "class Zeytin(Decorator):\n",
        "    def __init__(self, component):\n",
        "        super().__init__(component)\n",
        "        self.description = \"Zeytin\"\n",
        "        self.cost = 3\n",
        "\n",
        "\n",
        "class Mantar(Decorator):\n",
        "    def __init__(self, component):\n",
        "        super().__init__(component)\n",
        "        self.description = \"Mantarlar\"\n",
        "        self.cost = 2\n",
        "\n",
        "class KeciPeyniri(Decorator):\n",
        "    def __init__(self, component):\n",
        "        super().__init__(component)\n",
        "        self.description = \"Keçi Peyniri\"\n",
        "        self.cost = 5\n",
        "\n",
        "class Et(Decorator):\n",
        "    def __init__(self, component):\n",
        "        super().__init__(component)\n",
        "        self.description = \"Et\"\n",
        "        self.cost = 4\n",
        "\n",
        "class Sogan(Decorator):\n",
        "    def __init__(self, component):\n",
        "        super().__init__(component)\n",
        "        self.description = \"Soğan\"\n",
        "        self.cost = 1\n",
        "\n",
        "class Misir(Decorator):\n",
        "    def __init__(self, component):\n",
        "        super().__init__(component)\n",
        "        self.description = \"Mısır\"\n",
        "        self.cost = 2"
      ],
      "metadata": {
        "id": "nAQwsyfrU_CF"
      },
      "execution_count": 37,
      "outputs": []
    },
    {
      "cell_type": "code",
      "source": [
        "def print_menu():\n",
        "    with open(\"Menu.txt\", \"r\") as file:\n",
        "        print(file.read())"
      ],
      "metadata": {
        "id": "ELr0VqJmYxQw"
      },
      "execution_count": 38,
      "outputs": []
    },
    {
      "cell_type": "code",
      "source": [
        "def get_pizza_choice():\n",
        "    pizza = None\n",
        "    while pizza is None:\n",
        "        choice = input(\"Lütfen bir pizza tabanı seçiniz: \")\n",
        "        if choice == \"1\":\n",
        "            pizza = Klasik()\n",
        "        elif choice == \"2\":\n",
        "            pizza = Margarita()\n",
        "        elif choice == \"3\":\n",
        "            pizza = TurkPizza()\n",
        "        elif choice == \"4\":\n",
        "            pizza = SadePizza()\n",
        "        else:\n",
        "            print(\"Geçersiz seçim, lütfen tekrar deneyin.\")\n",
        "    return pizza\n"
      ],
      "metadata": {
        "id": "KXRvLORCY4Ey"
      },
      "execution_count": 39,
      "outputs": []
    },
    {
      "cell_type": "code",
      "source": [
        "def get_sauce_choice(pizza):\n",
        "    sauce = None\n",
        "    while sauce is None:\n",
        "        choice = input(\"Lütfen bir sos seçiniz: \")\n",
        "        if choice == \"11\":\n",
        "            sauce = Zeytin(pizza)\n",
        "        elif choice == \"12\":\n",
        "            sauce = Mantar(pizza)\n",
        "        elif choice == \"13\":\n",
        "            sauce = KeciPeyniri(pizza)\n",
        "        elif choice == \"14\":\n",
        "            sauce = Et(pizza)\n",
        "        elif choice == \"15\":\n",
        "            sauce = Sogan(pizza)\n",
        "        elif choice == \"16\":\n",
        "            sauce = Misir(pizza)\n",
        "        else:\n",
        "            print(\"Geçersiz seçim, lütfen tekrar deneyin.\")\n",
        "    return sauce"
      ],
      "metadata": {
        "id": "D-VwscO6Y5HZ"
      },
      "execution_count": 40,
      "outputs": []
    },
    {
      "cell_type": "code",
      "source": [
        "def main():\n",
        "  print_menu()\n",
        "  pizza = get_pizza_choice()\n",
        "  pizza = get_sauce_choice(pizza)\n",
        "  return pizza\n"
      ],
      "metadata": {
        "id": "DTTm5F4Qf9SB"
      },
      "execution_count": 41,
      "outputs": []
    },
    {
      "cell_type": "code",
      "source": [
        "pizza = main()"
      ],
      "metadata": {
        "id": "jTZUjjSXtrBY",
        "outputId": "99c33a3c-1c3c-4e14-fe93-dee1682dc823",
        "colab": {
          "base_uri": "https://localhost:8080/"
        }
      },
      "execution_count": 43,
      "outputs": [
        {
          "name": "stdout",
          "output_type": "stream",
          "text": [
            "* Lütfen Bir Pizza Tabanı Seçiniz:\n",
            "1: Klasik\n",
            "2: Margarita\n",
            "3: TürkPizza\n",
            "4: Sade Pizza\n",
            "* ve seçeceğiniz sos:\n",
            "11: Zeytin\n",
            "12: Mantarlar\n",
            "13: Keçi Peyniri\n",
            "14: Et\n",
            "15: Soğan\n",
            "16: Mısır\n",
            "* Teşekkür ederiz!\n",
            "\n",
            "Lütfen bir pizza tabanı seçiniz: 1\n",
            "Lütfen bir sos seçiniz: 13\n"
          ]
        }
      ]
    },
    {
      "cell_type": "code",
      "source": [
        "type(pizza)"
      ],
      "metadata": {
        "id": "fuaiOFHJtrHp",
        "colab": {
          "base_uri": "https://localhost:8080/"
        },
        "outputId": "bf78bd4c-c8e7-4e98-9fae-a5a27676ec0e"
      },
      "execution_count": 46,
      "outputs": [
        {
          "output_type": "execute_result",
          "data": {
            "text/plain": [
              "__main__.KeciPeyniri"
            ]
          },
          "metadata": {},
          "execution_count": 46
        }
      ]
    }
  ]
}